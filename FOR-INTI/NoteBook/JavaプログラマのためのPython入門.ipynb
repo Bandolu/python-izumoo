{
 "cells": [
  {
   "cell_type": "markdown",
   "metadata": {},
   "source": [
    "# Javaプログラマのための Python入門"
   ]
  },
  {
   "cell_type": "markdown",
   "metadata": {},
   "source": [
    "## 1. 基本事項"
   ]
  },
  {
   "cell_type": "markdown",
   "metadata": {},
   "source": [
    "## 1.1 Python について"
   ]
  },
  {
   "cell_type": "raw",
   "metadata": {},
   "source": [
    "# インタープリタ言語であり、対話モードで命令を1行ずつ実行させることが可能である。\n",
    "# 変数定義時にデータ型の指定は不要であり、データ型は代入された値によって決まる。\n",
    "# 行の終端が文の終端になり、同じ行に複数文を書くときにのみセミコロン(;)を置く。\n",
    "# 連続する同じインデントで文のブロックを表現する。波型カッコ { … } は使用しない。\n",
    "# 文字コードは UTF-8 が基本。Shift-JIS はトラブルの原因となるため、使用しない。"
   ]
  },
  {
   "cell_type": "markdown",
   "metadata": {},
   "source": [
    "## 1.2 画面に文字を表示する"
   ]
  },
  {
   "cell_type": "markdown",
   "metadata": {},
   "source": [
    "### Java"
   ]
  },
  {
   "cell_type": "raw",
   "metadata": {},
   "source": [
    "// 『こんにちは！元気ですか？』と表示（文字列リテラルを連結）\n",
    "\n",
    "class HowAreYou2 {\n",
    "\n",
    "\tpublic static void main(String[] args) {\n",
    "\t\tSystem.out.println(\"こんにちは！\" + \"元気ですか？\");\n",
    "\t}\n",
    "}"
   ]
  },
  {
   "cell_type": "markdown",
   "metadata": {},
   "source": [
    "### Python"
   ]
  },
  {
   "cell_type": "code",
   "execution_count": 1,
   "metadata": {},
   "outputs": [
    {
     "name": "stdout",
     "output_type": "stream",
     "text": [
      "こんにちは！元気ですか？\n"
     ]
    }
   ],
   "source": [
    "# 『こんにちは！元気ですか？』と表示（文字列リテラルを連結）\n",
    "\n",
    "print('こんにちは！' + '元気ですか？')"
   ]
  },
  {
   "cell_type": "markdown",
   "metadata": {},
   "source": [
    "### 説明"
   ]
  },
  {
   "cell_type": "raw",
   "metadata": {},
   "source": [
    "# 行内コメントは #記号を用いる。複数行コメントは 3連続引用符(''')で囲む。\n",
    "# クラスの宣言や mainメソッドの宣言は基本的に不要。入力した文は直ちに実行される。\n",
    "# print関数は printlnメソッドに対応する。パラメータにより改行なしの出力も可能。\n",
    "# 文字列は、一重引用符(')または二重引用符(\")で囲む。\n",
    "# 文字列は +演算子で連結される。"
   ]
  },
  {
   "cell_type": "markdown",
   "metadata": {},
   "source": [
    "## 2. 変数を使う"
   ]
  },
  {
   "cell_type": "markdown",
   "metadata": {},
   "source": [
    "## 2.1 変数"
   ]
  },
  {
   "cell_type": "markdown",
   "metadata": {},
   "source": [
    "### Java"
   ]
  },
  {
   "cell_type": "raw",
   "metadata": {},
   "source": [
    "// 二つの変数xとyの合計と平均を表示（変数を初期化）\n",
    "\n",
    "class SumAve3 {\n",
    "\n",
    "\tpublic static void main(String[] args) {\n",
    "\t\tint x = 63;\t\t\t// xはint型の変数\n",
    "\t\tint y = 18;\t\t\t// yはint型の変数\n",
    "\n",
    "\t\tSystem.out.println(\"xの値は\" + x + \"です。\");\t\t\t  // xの値を表示\n",
    "\t\tSystem.out.println(\"yの値は\" + y + \"です。\");\t\t\t  // yの値を表示\n",
    "\t\tSystem.out.println(\"合計は\" + (x + y) + \"です。\");\t  // 合計を表示\n",
    "\t\tSystem.out.println(\"平均は\" + (x + y) / 2 + \"です。\");  // 平均を表示\n",
    "\t}\n",
    "}"
   ]
  },
  {
   "cell_type": "markdown",
   "metadata": {},
   "source": [
    "### Python"
   ]
  },
  {
   "cell_type": "code",
   "execution_count": 2,
   "metadata": {},
   "outputs": [
    {
     "name": "stdout",
     "output_type": "stream",
     "text": [
      "xの値は63です。\n",
      "yの値は18です。\n",
      "合計は81です。\n",
      "平均は40です。\n"
     ]
    }
   ],
   "source": [
    "# 二つの変数xとyの合計と平均を表示（変数を初期化）\n",
    "\n",
    "x = 63    # xはint型の変数\n",
    "y = 18    # yはint型の変数\n",
    "\n",
    "print(\"xの値は\" + str(x) + \"です。\")           # xの値を表示\n",
    "print(\"yの値は\" + str(y) + \"です。\")           # yの値を表示\n",
    "print(\"合計は\" + str(x + y) + \"です。\")        # 合計を表示\n",
    "print(\"平均は\" + str((x + y) // 2) + \"です。\") # 平均を表示"
   ]
  },
  {
   "cell_type": "markdown",
   "metadata": {},
   "source": [
    "### 説明"
   ]
  },
  {
   "cell_type": "raw",
   "metadata": {},
   "source": [
    "# 変数の型宣言は不要。代入された値によって型が決まる。\n",
    "# 数値は文字列に自動変換されないため、str関数による明示的な変換処理が必要。\n",
    "# 除算は、/演算子の場合は結果が実数、//演算子の場合は結果が整数になる。"
   ]
  },
  {
   "cell_type": "markdown",
   "metadata": {},
   "source": [
    "## 2.2 キーボードからの入力"
   ]
  },
  {
   "cell_type": "markdown",
   "metadata": {},
   "source": [
    "### Java"
   ]
  },
  {
   "cell_type": "raw",
   "metadata": {},
   "source": [
    "// 整数値を読み込んで符号を反転した値を表示\n",
    "\n",
    "import java.util.Scanner;\n",
    "\n",
    "class Minus {\n",
    "\n",
    "\tpublic static void main(String[] args) {\n",
    "\t\tScanner stdIn = new Scanner(System.in);\n",
    "\n",
    "\t\tSystem.out.print(\"整数値：\");\n",
    "\t\tint a = stdIn.nextInt();\t// aに整数値を読み込む\n",
    "\n",
    "\t\tint b = -a;\t\t\t\t\t// aの符号を反転した値でbを初期化\n",
    "\t\tSystem.out.println(a + \"の符号を反転した値は\" + b + \"です。\");\n",
    "\t}\n",
    "}"
   ]
  },
  {
   "cell_type": "markdown",
   "metadata": {},
   "source": [
    "### Python"
   ]
  },
  {
   "cell_type": "code",
   "execution_count": 3,
   "metadata": {},
   "outputs": [
    {
     "name": "stdout",
     "output_type": "stream",
     "text": [
      "整数値：12\n",
      "12の符号を反転した値は-12です。\n"
     ]
    }
   ],
   "source": [
    "# 整数値を読み込んで符号を反転した値を表示\n",
    "\n",
    "a = int(input('整数値：'))  # aに整数値を読み込む\n",
    "\n",
    "b = -a                      # aの符号を反転した値でbを初期化\n",
    "print(str(a) + 'の符号を反転した値は' + str(b) + 'です。')"
   ]
  },
  {
   "cell_type": "markdown",
   "metadata": {},
   "source": [
    "### 説明"
   ]
  },
  {
   "cell_type": "raw",
   "metadata": {},
   "source": [
    "# キーボードからの入力は input関数を用いる。\n",
    "# 入力した文字列は int関数で整数に変換する。"
   ]
  },
  {
   "cell_type": "markdown",
   "metadata": {},
   "source": [
    "## 3. 流れの分岐"
   ]
  },
  {
   "cell_type": "markdown",
   "metadata": {
    "collapsed": true
   },
   "source": [
    "## 3.1 if文"
   ]
  },
  {
   "cell_type": "markdown",
   "metadata": {},
   "source": [
    "### Java"
   ]
  },
  {
   "cell_type": "raw",
   "metadata": {},
   "source": [
    "// 二つの整数値の小さいほうの値と大きいほうの値を求めて表示\n",
    "\n",
    "import java.util.Scanner;\n",
    "\n",
    "class MinMax {\n",
    "\n",
    "\tpublic static void main(String[] args) {\n",
    "\t\tScanner stdIn = new Scanner(System.in);\n",
    "\n",
    "\t\tSystem.out.print(\"整数a：\");  int a = stdIn.nextInt();\n",
    "\t\tSystem.out.print(\"整数b：\");  int b = stdIn.nextInt();\n",
    "\n",
    "\t\tint min, max;\t\t// 小さいほうの値／大きいほうの値\n",
    "\n",
    "\t\tif (a < b) {\t\t// aがbより小さければ\n",
    "\t\t\tmin = a;\n",
    "\t\t\tmax = b;\n",
    "\t\t} else {\t\t\t// そうでなければ\n",
    "\t\t\tmin = b;\n",
    "\t\t\tmax = a;\n",
    "\t\t}\n",
    "\n",
    "\t\tSystem.out.println(\"小さいほうの値は\" + min + \"です。\");\n",
    "\t\tSystem.out.println(\"大きいほうの値は\" + max + \"です。\");\n",
    "\t}\n",
    "}"
   ]
  },
  {
   "cell_type": "markdown",
   "metadata": {},
   "source": [
    "### Python"
   ]
  },
  {
   "cell_type": "code",
   "execution_count": 4,
   "metadata": {},
   "outputs": [
    {
     "name": "stdout",
     "output_type": "stream",
     "text": [
      "整数a：12\n",
      "整数b：10\n",
      "小さいほうの値は10です。\n",
      "大きいほうの値は12です。\n"
     ]
    }
   ],
   "source": [
    "# 二つの整数値の小さいほうの値と大きいほうの値を求めて表示\n",
    "\n",
    "a = int(input('整数a：'))\n",
    "b = int(input('整数b：'))\n",
    "\n",
    "if a < b:  # aがbより小さければ\n",
    "    min = a\n",
    "    max = b\n",
    "else:     # そうでなければ\n",
    "    min = b\n",
    "    max = a\n",
    "\n",
    "print('小さいほうの値は' + str(min) + 'です。')\n",
    "print('大きいほうの値は' + str(max) + 'です。')"
   ]
  },
  {
   "cell_type": "markdown",
   "metadata": {},
   "source": [
    "### 説明"
   ]
  },
  {
   "cell_type": "raw",
   "metadata": {},
   "source": [
    "# if文とelse文の文末にはコロン(:)を置く。両者は同じインデントにすること。\n",
    "# 連続する同一インデントの行はブロックとなる。"
   ]
  },
  {
   "cell_type": "markdown",
   "metadata": {},
   "source": [
    "### Python 別解"
   ]
  },
  {
   "cell_type": "code",
   "execution_count": 5,
   "metadata": {},
   "outputs": [
    {
     "name": "stdout",
     "output_type": "stream",
     "text": [
      "整数a：12\n",
      "整数b：10\n",
      "小さいほうの値は 10 です。\n",
      "大きいほうの値は 12 です。\n"
     ]
    }
   ],
   "source": [
    "# 二つの整数値の小さいほうの値と大きいほうの値を求めて表示\n",
    "\n",
    "a = int(input('整数a：'))\n",
    "b = int(input('整数b：'))\n",
    "\n",
    "if a < b:  # aがbより小さければ\n",
    "    min, max = a, b\n",
    "else:     # そうでなければ\n",
    "    min, max = b, a\n",
    "\n",
    "print('小さいほうの値は', min, 'です。')\n",
    "print('大きいほうの値は', max, 'です。')"
   ]
  },
  {
   "cell_type": "markdown",
   "metadata": {},
   "source": [
    "### 説明"
   ]
  },
  {
   "cell_type": "raw",
   "metadata": {},
   "source": [
    "# 複数の変数に同時に代入できる。\n",
    "# print関数に複数の引数を指定すると連結されて出力される。"
   ]
  },
  {
   "cell_type": "markdown",
   "metadata": {},
   "source": [
    "## 3.2 switch文※"
   ]
  },
  {
   "cell_type": "markdown",
   "metadata": {},
   "source": [
    "### Java"
   ]
  },
  {
   "cell_type": "raw",
   "metadata": {},
   "source": [
    "// 読み込んだ値に応じてジャンケンの手を表示（その２：switch文）\n",
    "\n",
    "import java.util.Scanner;\n",
    "\n",
    "class FingerFlashing2 {\n",
    "\n",
    "\tpublic static void main(String[] args) {\n",
    "\t\tScanner stdIn = new Scanner(System.in);\n",
    "\n",
    "\t\tSystem.out.print(\"手を選べ（0…グー／1…チョキ／2…パー）：\");\n",
    "\t\tint hand = stdIn.nextInt();\n",
    "\n",
    "\t\tswitch (hand) {\n",
    "\t\t case 0: System.out.println(\"グー\");\tbreak;\n",
    "\t\t case 1: System.out.println(\"チョキ\"); break;\n",
    "\t\t case 2: System.out.println(\"パー\");\tbreak;\n",
    "\t\t}\n",
    "\t}\n",
    "}"
   ]
  },
  {
   "cell_type": "markdown",
   "metadata": {},
   "source": [
    "### Python"
   ]
  },
  {
   "cell_type": "code",
   "execution_count": 6,
   "metadata": {},
   "outputs": [
    {
     "name": "stdout",
     "output_type": "stream",
     "text": [
      "手を選べ（0…グー／1…チョキ／2…パー）：1\n",
      "チョキ\n"
     ]
    }
   ],
   "source": [
    "# 読み込んだ値に応じてジャンケンの手を表示\n",
    "\n",
    "hand = input('手を選べ（0…グー／1…チョキ／2…パー）：')\n",
    "\n",
    "if hand == '0':\n",
    "    print('グー')\n",
    "elif hand == '1':\n",
    "    print('チョキ')\n",
    "elif hand == '2':\n",
    "    print('パー')"
   ]
  },
  {
   "cell_type": "markdown",
   "metadata": {},
   "source": [
    "### 説明"
   ]
  },
  {
   "cell_type": "raw",
   "metadata": {},
   "source": [
    "# switch-case文に相当するものは存在しない。\n",
    "# elif は else if に相当する。"
   ]
  },
  {
   "cell_type": "markdown",
   "metadata": {},
   "source": [
    "## 3.3 キーワード・識別子"
   ]
  },
  {
   "cell_type": "markdown",
   "metadata": {},
   "source": [
    "### Java のキーワード"
   ]
  },
  {
   "cell_type": "raw",
   "metadata": {},
   "source": [
    "abstract, assert, boolean, break, byte, case, catch, char, class, const,\n",
    "continue, default, do, double, else, enum, extends, final, finally, float,\n",
    "for, goto, if, implements, import, instanceof, int, interface, long, native,\n",
    "new, package, private, protected, public, return, short, static, strictfp, super,\n",
    "switch, synchrnized, this, throw, throws, transient, try, void, volatile, while,\n",
    "true, false, null"
   ]
  },
  {
   "cell_type": "markdown",
   "metadata": {},
   "source": [
    "### Python のキーワード"
   ]
  },
  {
   "cell_type": "code",
   "execution_count": 7,
   "metadata": {},
   "outputs": [
    {
     "name": "stdout",
     "output_type": "stream",
     "text": [
      "['False', 'None', 'True', 'and', 'as', 'assert', 'break', 'class', 'continue', 'def', 'del', 'elif', 'else', 'except', 'finally', 'for', 'from', 'global', 'if', 'import', 'in', 'is', 'lambda', 'nonlocal', 'not', 'or', 'pass', 'raise', 'return', 'try', 'while', 'with', 'yield']\n"
     ]
    }
   ],
   "source": [
    "import keyword\n",
    "print(keyword.kwlist)"
   ]
  },
  {
   "cell_type": "markdown",
   "metadata": {},
   "source": [
    "### 説明"
   ]
  },
  {
   "cell_type": "raw",
   "metadata": {},
   "source": [
    "# True, False, None は先頭が大文字。\n",
    "# バージョンによってキーワードは多少異なる。"
   ]
  },
  {
   "cell_type": "markdown",
   "metadata": {},
   "source": [
    "### Java の識別子"
   ]
  },
  {
   "cell_type": "raw",
   "metadata": {},
   "source": [
    "1文字目は、文字( $ と _ を含む)。2文字目以降は、文字( $ と _ を含む)と数字。"
   ]
  },
  {
   "cell_type": "markdown",
   "metadata": {},
   "source": [
    "### Python の識別子"
   ]
  },
  {
   "cell_type": "raw",
   "metadata": {},
   "source": [
    "基本的に Java と同じ。ただし、ドル記号($)は使用できない。"
   ]
  },
  {
   "cell_type": "markdown",
   "metadata": {},
   "source": [
    "## 4. 流れの繰り返し"
   ]
  },
  {
   "cell_type": "markdown",
   "metadata": {},
   "source": [
    "## 4.1 do文"
   ]
  },
  {
   "cell_type": "markdown",
   "metadata": {},
   "source": [
    "### Java"
   ]
  },
  {
   "cell_type": "raw",
   "metadata": {},
   "source": [
    "// 読み込んだ値に応じてジャンケンの手を表示（0, 1, 2のみを受け付ける）\n",
    "\n",
    "import java.util.Scanner;\n",
    "\n",
    "class FingerFlashing {\n",
    "\n",
    "\tpublic static void main(String[] args) {\n",
    "\t\tScanner stdIn = new Scanner(System.in);\n",
    "\n",
    "\t\tint hand;\n",
    "\n",
    "\t\tdo {\n",
    "\t\t\tSystem.out.print(\"手を選べ（0…グー／1…チョキ／2…パー）：\");\n",
    "\t\t\thand = stdIn.nextInt();\n",
    "\t\t} while (hand < 0 || hand > 2);\n",
    "\n",
    "\t\tswitch (hand) {\n",
    "\t\t case 0: System.out.println(\"グー\");\tbreak;\n",
    "\t\t case 1: System.out.println(\"チョキ\"); break;\n",
    "\t\t case 2: System.out.println(\"パー\");\tbreak;\n",
    "\t\t}\n",
    "\t}\n",
    "}"
   ]
  },
  {
   "cell_type": "markdown",
   "metadata": {},
   "source": [
    "### Python"
   ]
  },
  {
   "cell_type": "code",
   "execution_count": 1,
   "metadata": {},
   "outputs": [
    {
     "name": "stdout",
     "output_type": "stream",
     "text": [
      "手を選べ（0…グー／1…チョキ／2…パー）：2\n",
      "パー\n"
     ]
    }
   ],
   "source": [
    "# 読み込んだ値に応じてジャンケンの手を表示（0, 1, 2のみを受け付ける）\n",
    "\n",
    "hand = -1\n",
    "while hand < 0 or hand > 2:\n",
    "    hand = int(input('手を選べ（0…グー／1…チョキ／2…パー）：'))\n",
    "\n",
    "if hand == 0:\n",
    "    print('グー')\n",
    "elif hand == 1:\n",
    "    print('チョキ')\n",
    "elif hand == 2:\n",
    "    print('パー')"
   ]
  },
  {
   "cell_type": "markdown",
   "metadata": {},
   "source": [
    "### 説明"
   ]
  },
  {
   "cell_type": "raw",
   "metadata": {},
   "source": [
    "# do-while文に相当するものは存在しない。\n",
    "# 論理演算子は、&&, ||, ! ではなく、and, or, not を用いる。"
   ]
  },
  {
   "cell_type": "markdown",
   "metadata": {},
   "source": [
    "## 4.2 while文"
   ]
  },
  {
   "cell_type": "markdown",
   "metadata": {},
   "source": [
    "### Java"
   ]
  },
  {
   "cell_type": "raw",
   "metadata": {},
   "source": [
    "// 読み込んだ個数だけ*を表示（その２）\n",
    "\n",
    "import java.util.Scanner;\n",
    "\n",
    "class PutAsterisk2 {\n",
    "\n",
    "\tpublic static void main(String[] args) {\n",
    "\t\tScanner stdIn = new Scanner(System.in);\n",
    "\n",
    "\t\tSystem.out.print(\"何個*を表示しますか：\");\n",
    "\t\tint n = stdIn.nextInt();\n",
    "\n",
    "\t\tint i = 1;\n",
    "\t\twhile (i <= n) {\n",
    "\t\t\tSystem.out.print('*');\n",
    "\t\t\ti++;\n",
    "\t\t}\n",
    "\t\tSystem.out.println();\n",
    "\t}\t\n",
    "}"
   ]
  },
  {
   "cell_type": "markdown",
   "metadata": {},
   "source": [
    "### Python"
   ]
  },
  {
   "cell_type": "code",
   "execution_count": 9,
   "metadata": {},
   "outputs": [
    {
     "name": "stdout",
     "output_type": "stream",
     "text": [
      "何個*を表示しますか：5\n",
      "*****\n"
     ]
    }
   ],
   "source": [
    "# 読み込んだ個数だけ*を表示（その２）\n",
    "\n",
    "n = int(input('何個*を表示しますか：'))\n",
    "\n",
    "i = 1\n",
    "while i <= n:\n",
    "    print('*', end='')\n",
    "    i += 1\n",
    "print()"
   ]
  },
  {
   "cell_type": "markdown",
   "metadata": {},
   "source": [
    "### 説明"
   ]
  },
  {
   "cell_type": "raw",
   "metadata": {},
   "source": [
    "# print関数で改行以外の行末文字を指定する場合は、パラメータ end= を用いる。\n",
    "# インクリメント・デクリメント演算子は存在しない。"
   ]
  },
  {
   "cell_type": "markdown",
   "metadata": {},
   "source": [
    "## 4.3 for文"
   ]
  },
  {
   "cell_type": "markdown",
   "metadata": {},
   "source": [
    "### Java"
   ]
  },
  {
   "cell_type": "raw",
   "metadata": {},
   "source": [
    "// 読み込んだ整数値のすべての約数を表示\n",
    "\n",
    "import java.util.Scanner;\n",
    "\n",
    "class Measure {\n",
    "\n",
    "\tpublic static void main(String[] args) {\n",
    "\t\tScanner stdIn = new Scanner(System.in);\n",
    "\n",
    "\t\tSystem.out.print(\"整数値：\");\n",
    "\t\tint n = stdIn.nextInt();\n",
    "\n",
    "\t\tfor (int i = 1; i < n; i++)\n",
    "\t\t\tif (n % i == 0)\t\t\t\t// 割り切れたら\n",
    "\t\t\t\tSystem.out.println(i);\t// 表示\n",
    "\t}\n",
    "}"
   ]
  },
  {
   "cell_type": "markdown",
   "metadata": {},
   "source": [
    "### Python"
   ]
  },
  {
   "cell_type": "code",
   "execution_count": 10,
   "metadata": {},
   "outputs": [
    {
     "name": "stdout",
     "output_type": "stream",
     "text": [
      "整数値：12\n",
      "1\n",
      "2\n",
      "3\n",
      "4\n",
      "6\n"
     ]
    }
   ],
   "source": [
    "# 読み込んだ整数値のすべての約数を表示\n",
    "\n",
    "n = int(input('整数値：'))\n",
    "\n",
    "for i in range(1, n):\n",
    "    if n % i == 0:  # 割り切れたら\n",
    "        print(i)    # 表示"
   ]
  },
  {
   "cell_type": "markdown",
   "metadata": {},
   "source": [
    "### 説明"
   ]
  },
  {
   "cell_type": "raw",
   "metadata": {},
   "source": [
    "# range関数は、範囲を指定する。\n",
    "# 例: range(5) -> 0,1,2,3,4、range(1,5) -> 1,2,3,4、range(1,5,2) -> 1,3"
   ]
  },
  {
   "cell_type": "markdown",
   "metadata": {},
   "source": [
    "## 4.4 多重ループ"
   ]
  },
  {
   "cell_type": "markdown",
   "metadata": {},
   "source": [
    "### Java"
   ]
  },
  {
   "cell_type": "raw",
   "metadata": {},
   "source": [
    "// 九九の表を表示\n",
    "\n",
    "class MultiTable {\n",
    "\n",
    "\tpublic static void main(String[] args) {\n",
    "\t\tfor (int i = 1; i <= 9; i++) {\n",
    "\t\t\tfor (int j = 1; j <= 9; j++) {\n",
    "\t\t\t\tif (i * j < 10)\n",
    "\t\t\t\t\tSystem.out.print(\"  \");\n",
    "\t\t\t\telse\n",
    "\t\t\t\t\tSystem.out.print(\" \");\n",
    "\t\t\t\tSystem.out.print(i * j);\n",
    "\t\t\t}\n",
    "\t\t\tSystem.out.println();\n",
    "\t\t}\n",
    "\t}\n",
    "}"
   ]
  },
  {
   "cell_type": "markdown",
   "metadata": {},
   "source": [
    "### Python"
   ]
  },
  {
   "cell_type": "code",
   "execution_count": 11,
   "metadata": {},
   "outputs": [
    {
     "name": "stdout",
     "output_type": "stream",
     "text": [
      "  1  2  3  4  5  6  7  8  9\n",
      "  2  4  6  8 10 12 14 16 18\n",
      "  3  6  9 12 15 18 21 24 27\n",
      "  4  8 12 16 20 24 28 32 36\n",
      "  5 10 15 20 25 30 35 40 45\n",
      "  6 12 18 24 30 36 42 48 54\n",
      "  7 14 21 28 35 42 49 56 63\n",
      "  8 16 24 32 40 48 56 64 72\n",
      "  9 18 27 36 45 54 63 72 81\n"
     ]
    }
   ],
   "source": [
    "# 九九の表を表示\n",
    "\n",
    "for i in range(1, 10):\n",
    "    for j in range(1, 10):\n",
    "        if i * j < 10:\n",
    "            print('  ', end='')\n",
    "        else:\n",
    "            print(' ', end='')\n",
    "        print(i * j, end='')\n",
    "    print()"
   ]
  },
  {
   "cell_type": "markdown",
   "metadata": {},
   "source": [
    "### 説明"
   ]
  },
  {
   "cell_type": "raw",
   "metadata": {},
   "source": [
    "# ループのネスト構造もインデントで記述する。"
   ]
  },
  {
   "cell_type": "markdown",
   "metadata": {},
   "source": [
    "## 4.5 break文と continue文"
   ]
  },
  {
   "cell_type": "markdown",
   "metadata": {},
   "source": [
    "### Java"
   ]
  },
  {
   "cell_type": "raw",
   "metadata": {},
   "source": [
    "// 読み込んだ整数を加算（負の値は加算しない）\n",
    "\n",
    "import java.util.Scanner;\n",
    "\n",
    "class SumContinue {\n",
    "\n",
    "\tpublic static void main(String[] args) {\n",
    "\t\tScanner stdIn = new Scanner(System.in);\n",
    "\n",
    "\t\tSystem.out.println(\"整数を加算します。\");\n",
    "\t\tSystem.out.print(\"何個加算しますか：\");\n",
    "\t\tint n = stdIn.nextInt();\t// 加算する個数\n",
    "\n",
    "\t\tint sum = 0;\t// 合計値\n",
    "\t\tfor (int i = 0; i < n; i++) {\n",
    "\t\t\tSystem.out.print(\"整数：\");\n",
    "\t\t\tint t = stdIn.nextInt();\n",
    "\t\t\tif (t < 0) {\n",
    "\t\t\t\tSystem.out.println(\"負の数は加算しません。\");\n",
    "\t\t\t\tcontinue;\n",
    "\t\t\t}\n",
    "\t\t\tsum += t;\n",
    "\t\t}\n",
    "\t\tSystem.out.println(\"合計は\" + sum + \"です。\");\n",
    "\t}\n",
    "}"
   ]
  },
  {
   "cell_type": "markdown",
   "metadata": {},
   "source": [
    "### Python"
   ]
  },
  {
   "cell_type": "code",
   "execution_count": 12,
   "metadata": {},
   "outputs": [
    {
     "name": "stdout",
     "output_type": "stream",
     "text": [
      "整数を加算します。\n",
      "何個加算しますか：5\n",
      "整数：5\n",
      "整数：4\n",
      "整数：3\n",
      "整数：2\n",
      "整数：1\n",
      "合計は 15 です。\n"
     ]
    }
   ],
   "source": [
    "# 読み込んだ整数を加算（負の値は加算しない）\n",
    "\n",
    "print(\"整数を加算します。\")\n",
    "n = int(input(\"何個加算しますか：\"))  # 加算する個数\n",
    "\n",
    "sum = 0  # 合計値\n",
    "for i in range(n):\n",
    "    t = int(input(\"整数：\"))\n",
    "    if t < 0:\n",
    "        print(\"負の数は加算しません。\")\n",
    "        continue\n",
    "    sum += t\n",
    "print(\"合計は\", sum, \"です。\");"
   ]
  },
  {
   "cell_type": "markdown",
   "metadata": {},
   "source": [
    "### 説明"
   ]
  },
  {
   "cell_type": "raw",
   "metadata": {},
   "source": [
    "# ループ中の break文と continue文の使い方は Java と同じ。"
   ]
  },
  {
   "cell_type": "markdown",
   "metadata": {},
   "source": [
    "## 4.6 printfメソッド"
   ]
  },
  {
   "cell_type": "markdown",
   "metadata": {},
   "source": [
    "### Java"
   ]
  },
  {
   "cell_type": "raw",
   "metadata": {},
   "source": [
    "// 整数値と実数値を読み込んで表示\n",
    "\n",
    "import java.util.Scanner;\n",
    "\n",
    "class DecimalFloat {\n",
    "\n",
    "\tpublic static void main(String[] args) {\n",
    "\t\tScanner stdIn = new Scanner(System.in);\n",
    "\n",
    "\t\tSystem.out.print(\"整数x：\");\n",
    "\t\tint x = stdIn.nextInt();\n",
    "\n",
    "\t\tSystem.out.print(\"実数y：\");\n",
    "\t\tdouble y = stdIn.nextDouble();\n",
    "\n",
    "\t\tSystem.out.printf(\"x =%3d  y =%6.2f\\n\", x, y);\n",
    "\t}\n",
    "}"
   ]
  },
  {
   "cell_type": "markdown",
   "metadata": {},
   "source": [
    "### Python"
   ]
  },
  {
   "cell_type": "code",
   "execution_count": 13,
   "metadata": {},
   "outputs": [
    {
     "name": "stdout",
     "output_type": "stream",
     "text": [
      "整数x：12\n",
      "実数y：1.2\n",
      "x = 12  y =  1.20\n"
     ]
    }
   ],
   "source": [
    "# 整数値と実数値を読み込んで表示\n",
    "\n",
    "x = int(input('整数x：'))\n",
    "y = float(input('実数y：'))\n",
    "\n",
    "print('x =%3d  y =%6.2f' % (x, y))"
   ]
  },
  {
   "cell_type": "markdown",
   "metadata": {},
   "source": [
    "### 説明"
   ]
  },
  {
   "cell_type": "code",
   "execution_count": 14,
   "metadata": {
    "collapsed": true
   },
   "outputs": [],
   "source": [
    "# print文で書式化文字列と %記号の組合せで指定する。\n",
    "# ただし、間違いやすいので後述する str.formatメソッドの使用が推奨されている。"
   ]
  },
  {
   "cell_type": "markdown",
   "metadata": {},
   "source": [
    "### Python 別解"
   ]
  },
  {
   "cell_type": "code",
   "execution_count": 15,
   "metadata": {},
   "outputs": [
    {
     "name": "stdout",
     "output_type": "stream",
     "text": [
      "整数x：12\n",
      "実数y：1.2\n",
      "x = 12  y =  1.20\n"
     ]
    }
   ],
   "source": [
    "# 整数値と実数値を読み込んで表示\n",
    "\n",
    "x = int(input('整数x：'))\n",
    "y = float(input('実数y：'))\n",
    "\n",
    "print('x ={:3d}  y ={:6.2f}'.format(x, y))"
   ]
  },
  {
   "cell_type": "markdown",
   "metadata": {},
   "source": [
    "### 説明"
   ]
  },
  {
   "cell_type": "raw",
   "metadata": {},
   "source": [
    "# 書式化文字列中の {} の部分が、formatメソッドの引数で置き換えられる\n",
    "# {}の内部には、{引数名:書式} を指定する。どちらも省略可能。"
   ]
  },
  {
   "cell_type": "markdown",
   "metadata": {},
   "source": [
    "## 5. 基本型と演算"
   ]
  },
  {
   "cell_type": "markdown",
   "metadata": {},
   "source": [
    "## 5.1 基本型"
   ]
  },
  {
   "cell_type": "markdown",
   "metadata": {},
   "source": [
    "### Java の基本型"
   ]
  },
  {
   "cell_type": "raw",
   "metadata": {},
   "source": [
    "char, byte, short, int, long, float, double, boolean"
   ]
  },
  {
   "cell_type": "markdown",
   "metadata": {},
   "source": [
    "### Python の基本型"
   ]
  },
  {
   "cell_type": "raw",
   "metadata": {},
   "source": [
    "int, long, bool, float, complex(複素数), str(文字列)"
   ]
  },
  {
   "cell_type": "markdown",
   "metadata": {},
   "source": [
    "### 説明"
   ]
  },
  {
   "cell_type": "raw",
   "metadata": {},
   "source": [
    "# 整数型の int(32bit) と long(64bit) は値の大きさによって自動的に決定される。\n",
    "# 浮動小数点型は float(64bit) のみ。\n",
    "# bool は整数型で、0 = False、1 = True として扱われる。"
   ]
  },
  {
   "cell_type": "markdown",
   "metadata": {},
   "source": [
    "## 5.2 演算と型"
   ]
  },
  {
   "cell_type": "markdown",
   "metadata": {},
   "source": [
    "### Java"
   ]
  },
  {
   "cell_type": "raw",
   "metadata": {},
   "source": [
    "// 整数型から浮動小数点型への変換（精度が失われる例）\n",
    "\n",
    "class IntegralToFloat {\n",
    "\n",
    "\tpublic static void main(String[] args) {\n",
    "\t\tint  a = 123456789;\n",
    "\t\tlong b = 1234567890123456789L;\n",
    "\n",
    "\t\tSystem.out.println(\"        a = \" +        a);\n",
    "\t\tSystem.out.println(\"(float) a = \" + (float)a);\n",
    "\n",
    "\t\tSystem.out.println(\"        b = \" +         b);\n",
    "\t\tSystem.out.println(\"(double)b = \" + (double)b);\n",
    "\t}\n",
    "}"
   ]
  },
  {
   "cell_type": "markdown",
   "metadata": {},
   "source": [
    "### Python"
   ]
  },
  {
   "cell_type": "code",
   "execution_count": 16,
   "metadata": {},
   "outputs": [
    {
     "name": "stdout",
     "output_type": "stream",
     "text": [
      "      a  =  123456789\n",
      "float(a) =  123456789.0\n",
      "      b  =  1234567890123456789\n",
      "float(b) =  1.2345678901234568e+18\n"
     ]
    }
   ],
   "source": [
    "# 整数型から浮動小数点型への変換（精度が失われる例）\n",
    "\n",
    "a = 123456789\n",
    "b = 1234567890123456789\n",
    "\n",
    "print(\"      a  = \",       a )\n",
    "print(\"float(a) = \", float(a))\n",
    "print(\"      b  = \",       b )\n",
    "print(\"float(b) = \", float(b))"
   ]
  },
  {
   "cell_type": "markdown",
   "metadata": {},
   "source": [
    "### 説明"
   ]
  },
  {
   "cell_type": "raw",
   "metadata": {},
   "source": [
    "# 浮動小数点型は倍精度のみ。"
   ]
  },
  {
   "cell_type": "markdown",
   "metadata": {},
   "source": [
    "## 5.3 拡張表記"
   ]
  },
  {
   "cell_type": "markdown",
   "metadata": {},
   "source": [
    "### Java"
   ]
  },
  {
   "cell_type": "raw",
   "metadata": {},
   "source": [
    "// 拡張表記\\\"と\\'の利用例\n",
    "\n",
    "class Quotation {\n",
    "\n",
    "\tpublic static void main(String[] args) {\n",
    "\t\tSystem.out.println(\"文字列リテラルと文字定数について。\");\n",
    "\n",
    "\t\tSystem.out.println(\"二重引用符で囲まれた\\\"ABC\\\"は文字列リテラルです。\");\n",
    "\n",
    "\t\tSystem.out.print(\"一重引用符で囲まれた\");\n",
    "\t\tSystem.out.print('\\'');\n",
    "\t\tSystem.out.println(\"A'は文字リテラルです。\");\n",
    "\t}\n",
    "}"
   ]
  },
  {
   "cell_type": "markdown",
   "metadata": {},
   "source": [
    "### Python"
   ]
  },
  {
   "cell_type": "code",
   "execution_count": 17,
   "metadata": {},
   "outputs": [
    {
     "name": "stdout",
     "output_type": "stream",
     "text": [
      "文字列リテラルと文字定数について。\n",
      "二重引用符で囲まれた\"ABC\"は文字列リテラルです。\n",
      "一重引用符で囲まれた'A'も文字列リテラルです。\n"
     ]
    }
   ],
   "source": [
    "# 拡張表記\\\"と\\'の利用例\n",
    "\n",
    "print(\"文字列リテラルと文字定数について。\")\n",
    "\n",
    "print(\"二重引用符で囲まれた\\\"ABC\\\"は文字列リテラルです。\")\n",
    "\n",
    "print(\"一重引用符で囲まれた'A'も文字列リテラルです。\")\n"
   ]
  },
  {
   "cell_type": "markdown",
   "metadata": {},
   "source": [
    "### 説明"
   ]
  },
  {
   "cell_type": "raw",
   "metadata": {},
   "source": [
    "# 文字列リテラルを表す際には、一重引用符と二重引用符のどちらを使用してもよい。\n",
    "# 文字列リテラルと文字リテラルの区別はない。\n",
    "# 拡張表記の方法は Java と同じ。"
   ]
  },
  {
   "cell_type": "markdown",
   "metadata": {},
   "source": [
    "## 6. 配列"
   ]
  },
  {
   "cell_type": "markdown",
   "metadata": {},
   "source": [
    "## 6.1 配列（リスト）"
   ]
  },
  {
   "cell_type": "markdown",
   "metadata": {},
   "source": [
    "### Java"
   ]
  },
  {
   "cell_type": "raw",
   "metadata": {},
   "source": [
    "// 配列の全要素の和を求めて表示（拡張for文）\n",
    "\n",
    "class ArraySumForIn {\n",
    "\n",
    "\tpublic static void main(String[] args) {\n",
    "\t\tdouble[] a = { 1.0, 2.0, 3.0, 4.0, 5.0 };\n",
    "\n",
    "\t\tfor (int i = 0; i < a.length; i++)\n",
    "\t\t\tSystem.out.println(\"a[\" + i + \"] = \" + a[i]);\n",
    "\n",
    "\t\tdouble sum = 0;\t// 合計\n",
    "\t\tfor (double i : a)\n",
    "\t\t\tsum += i;\n",
    "\n",
    "\t\tSystem.out.println(\"全要素の和は\" + sum + \"です。\");\n",
    "\t}\n",
    "}"
   ]
  },
  {
   "cell_type": "markdown",
   "metadata": {},
   "source": [
    "### Python"
   ]
  },
  {
   "cell_type": "code",
   "execution_count": 18,
   "metadata": {},
   "outputs": [
    {
     "name": "stdout",
     "output_type": "stream",
     "text": [
      "a[0] = 1.0\n",
      "a[1] = 2.0\n",
      "a[2] = 3.0\n",
      "a[3] = 4.0\n",
      "a[4] = 5.0\n",
      "全要素の和は 15.0 です。\n"
     ]
    }
   ],
   "source": [
    "# 配列の全要素の和を求めて表示（拡張for文）\n",
    "\n",
    "a = [ 1.0, 2.0, 3.0, 4.0, 5.0 ]\n",
    "\n",
    "for i in range(len(a)):\n",
    "    print('a[' + str(i) + '] = ' + str(a[i]))\n",
    "\n",
    "sum = 0  # 合計\n",
    "for i in a:\n",
    "    sum += i\n",
    "\n",
    "print('全要素の和は', sum, 'です。')"
   ]
  },
  {
   "cell_type": "markdown",
   "metadata": {},
   "source": [
    "### 説明"
   ]
  },
  {
   "cell_type": "raw",
   "metadata": {},
   "source": [
    "# リスト（配列）の初期化は、[] 記号を用いる。\n",
    "# リストの要素数は、len関数で取得する。\n",
    "# リスト中の全要素を処理する場合は、拡張for文を用いる。"
   ]
  },
  {
   "cell_type": "markdown",
   "metadata": {},
   "source": [
    "## 6.2 多次元配列"
   ]
  },
  {
   "cell_type": "markdown",
   "metadata": {
    "collapsed": true
   },
   "source": [
    "### Java"
   ]
  },
  {
   "cell_type": "raw",
   "metadata": {},
   "source": [
    "// ２次元配列を生成して全要素を乱数で埋め尽くす\n",
    "\n",
    "import java.util.Random;\n",
    "import java.util.Scanner;\n",
    "\n",
    "class Array2D {\n",
    "\n",
    "\tpublic static void main(String[] args) {\n",
    "\t\tRandom rand = new Random();\n",
    "\t\tScanner stdIn = new Scanner(System.in);\n",
    "\n",
    "\t\tSystem.out.print(\"行数：\");\n",
    "\t\tint h = stdIn.nextInt();\t\t// 行数を読み込む\n",
    "\n",
    "\t\tSystem.out.print(\"列数：\");\n",
    "\t\tint w = stdIn.nextInt();\t\t// 列数を読み込む\n",
    "\n",
    "\t\tint[][] x = new int[h][w];\n",
    "\n",
    "\t\tfor (int i = 0; i < h; i++)\n",
    "\t\t\tfor (int j = 0; j < w; j++) {\n",
    "\t\t\t\tx[i][j] = rand.nextInt(100);\n",
    "\t\t\t\tSystem.out.println(\"x[\" + i + \"][\" + j + \"] = \" + x[i][j]);\n",
    "\t\t\t}\n",
    "\t}\n",
    "}"
   ]
  },
  {
   "cell_type": "markdown",
   "metadata": {},
   "source": [
    "### Python"
   ]
  },
  {
   "cell_type": "code",
   "execution_count": 19,
   "metadata": {},
   "outputs": [
    {
     "name": "stdout",
     "output_type": "stream",
     "text": [
      "行数5\n",
      "列数4\n",
      "x[0][0] = 12\n",
      "x[0][1] = 9\n",
      "x[0][2] = 27\n",
      "x[0][3] = 36\n",
      "x[1][0] = 27\n",
      "x[1][1] = 64\n",
      "x[1][2] = 35\n",
      "x[1][3] = 60\n",
      "x[2][0] = 54\n",
      "x[2][1] = 68\n",
      "x[2][2] = 68\n",
      "x[2][3] = 9\n",
      "x[3][0] = 15\n",
      "x[3][1] = 98\n",
      "x[3][2] = 100\n",
      "x[3][3] = 16\n",
      "x[4][0] = 12\n",
      "x[4][1] = 51\n",
      "x[4][2] = 34\n",
      "x[4][3] = 1\n",
      "[[12, 9, 27, 36], [27, 64, 35, 60], [54, 68, 68, 9], [15, 98, 100, 16], [12, 51, 34, 1]]\n"
     ]
    }
   ],
   "source": [
    "# ２次元配列を生成して全要素を乱数で埋め尽くす\n",
    "\n",
    "import random\n",
    "\n",
    "h = int(input('行数'))  # 行数を読み込む\n",
    "w = int(input('列数'))  # 列数を読み込む\n",
    "\n",
    "x = []\n",
    "for i in range(h):\n",
    "    x.append([])\n",
    "    for j in range(w):\n",
    "        x[i].append(random.randint(0, 100))\n",
    "        print('x[' + str(i) + '][' + str(j) + '] = ' + str(x[i][j]))\n",
    "\n",
    "print(x)"
   ]
  },
  {
   "cell_type": "markdown",
   "metadata": {},
   "source": [
    "### 説明"
   ]
  },
  {
   "cell_type": "raw",
   "metadata": {},
   "source": [
    "# 2次元リストは、リストを要素に持つリストである。\n",
    "# リストへの要素の追加は、appendメソッドで行う。\n",
    "# 整数の乱数は、randomモジュールの randintメソッドで生成する。"
   ]
  },
  {
   "cell_type": "markdown",
   "metadata": {},
   "source": [
    "## 7. メソッド"
   ]
  },
  {
   "cell_type": "markdown",
   "metadata": {},
   "source": [
    "## 7.1 メソッドとは"
   ]
  },
  {
   "cell_type": "markdown",
   "metadata": {},
   "source": [
    "### Java"
   ]
  },
  {
   "cell_type": "raw",
   "metadata": {},
   "source": [
    "// 三つの整数値の最大値を求める（メソッド版）\n",
    "\n",
    "import java.util.Scanner;\n",
    "\n",
    "class Max3Method {\n",
    "\n",
    "\t//--- a, b, cの最大値を返却 ---//\n",
    "\tstatic int max(int a, int b, int c) {\n",
    "\t\tint max = a;\n",
    "\t\tif (b > max) max = b;\n",
    "\t\tif (c > max) max = c;\n",
    "\t\treturn max;\n",
    "\t}\n",
    "\n",
    "\tpublic static void main(String[] args) {\n",
    "\t\tScanner stdIn = new Scanner(System.in);\n",
    "\n",
    "\t\tSystem.out.print(\"整数a：\");  int a = stdIn.nextInt();\n",
    "\t\tSystem.out.print(\"整数b：\");  int b = stdIn.nextInt();\n",
    "\t\tSystem.out.print(\"整数c：\");  int c = stdIn.nextInt();\n",
    "\n",
    "\t\tSystem.out.println(\"最大値は\" + max(a, b, c) + \"です。\");\n",
    "\t}\n",
    "}"
   ]
  },
  {
   "cell_type": "markdown",
   "metadata": {},
   "source": [
    "### Python"
   ]
  },
  {
   "cell_type": "code",
   "execution_count": 20,
   "metadata": {},
   "outputs": [
    {
     "name": "stdout",
     "output_type": "stream",
     "text": [
      "整数a：12\n",
      "整数b：10\n",
      "整数c：11\n",
      "最大値は 12 です。\n"
     ]
    }
   ],
   "source": [
    "# 三つの整数値の最大値を求める（関数版）\n",
    "\n",
    "def max(a, b, c):\n",
    "    max = a\n",
    "    if b > max:\n",
    "        max = b\n",
    "    if c > max:\n",
    "        max = c\n",
    "    return max\n",
    "\n",
    "# メソッドを呼び出す準備\n",
    "a = int(input('整数a：'))\n",
    "b = int(input('整数b：'))\n",
    "c = int(input('整数c：'))\n",
    "\n",
    "# メソッドを呼び出す\n",
    "print('最大値は', max(a, b, c), 'です。')"
   ]
  },
  {
   "cell_type": "markdown",
   "metadata": {},
   "source": [
    "### 説明"
   ]
  },
  {
   "cell_type": "raw",
   "metadata": {},
   "source": [
    "# 関数は def文で定義する。\n",
    "# 関数の内部は独自の名前空間を持ち、関数の外部からは見えない。"
   ]
  },
  {
   "cell_type": "markdown",
   "metadata": {},
   "source": [
    "## 7.2 配列を扱うメソッド"
   ]
  },
  {
   "cell_type": "markdown",
   "metadata": {},
   "source": [
    "### Java"
   ]
  },
  {
   "cell_type": "raw",
   "metadata": {},
   "source": [
    "// 線形探索\n",
    "\n",
    "import java.util.Scanner;\n",
    "\n",
    "class LinearSearch {\n",
    "\n",
    "\t//--- 配列aの要素からkeyと一致する最も先頭の要素を線形探索 ---//\n",
    "\tstatic int linearSearch(int[] a, int key) {\n",
    "\t\tfor (int i = 0; i < a.length; i++)\n",
    "\t\t\tif (a[i] == key)\n",
    "\t\t\t\treturn i;\t\t\t// 探索成功（インデックスを返却）\n",
    "\t\treturn -1;\t\t\t\t\t// 探索失敗（-1を返却）\n",
    "\t}\n",
    "\n",
    "\tpublic static void main(String[] args) {\n",
    "\t\tScanner stdIn = new Scanner(System.in);\n",
    "\n",
    "\t\tSystem.out.print(\"要素数：\");\n",
    "\t\tint num = stdIn.nextInt();\n",
    "\t\tint[] x = new int[num];\t\t// 要素数numの配列\n",
    "\n",
    "\t\tfor (int i = 0; i < num; i++) {\n",
    "\t\t\tSystem.out.print(\"x[\" + i + \"]：\");\n",
    "\t\t\tx[i] = stdIn.nextInt();\n",
    "\t\t}\n",
    "\t\tSystem.out.print(\"探す値：\");\t\t// キー値の読込み\n",
    "\t\tint ky = stdIn.nextInt();\n",
    "\n",
    "\t\tint idx = linearSearch(x, ky);\t// 配列xから値がkyの要素を探索\n",
    "\n",
    "\t\tif (idx == -1)\n",
    "\t\t\tSystem.out.println(\"その値の要素は存在しません。\");\n",
    "\t\telse\n",
    "\t\t\tSystem.out.println(\"その値は\" + \"x[\" + idx + \"]にあります。\");\n",
    "\t}\n",
    "}"
   ]
  },
  {
   "cell_type": "markdown",
   "metadata": {},
   "source": [
    "### Python"
   ]
  },
  {
   "cell_type": "code",
   "execution_count": 21,
   "metadata": {},
   "outputs": [
    {
     "name": "stdout",
     "output_type": "stream",
     "text": [
      "要素数：5\n",
      "x[0]：15\n",
      "x[1]：12\n",
      "x[2]：10\n",
      "x[3]：18\n",
      "x[4]：20\n",
      "探す値：18\n",
      "その値はx[3]にあります。\n"
     ]
    }
   ],
   "source": [
    "# 線形探索\n",
    "\n",
    "def linearSearch(a, key):\n",
    "    ''' 配列aの要素からkeyと一致する最も先頭の要素を線形探索 '''\n",
    "    for i in range(len(a)):\n",
    "        if a[i] == key:\n",
    "            return i  # 探索成功（インデックスを返却）\n",
    "    return -1         # 探索失敗（-1を返却）\n",
    "\n",
    "# メソッドを呼び出す準備\n",
    "num = int(input('要素数：'))\n",
    "x = []\n",
    "\n",
    "for i in range(num):\n",
    "    x.append(int(input('x[{}]：'.format(str(i)))))\n",
    "\n",
    "ky = int(input('探す値：'))  # キー値の読込み\n",
    "\n",
    "# メソッドを呼び出す\n",
    "idx = linearSearch(x, ky)    # 配列xから値がkyの要素を探索\n",
    "\n",
    "# メソッドを呼び出した結果\n",
    "if idx == -1:\n",
    "    print('その値の要素は存在しません。')\n",
    "else:\n",
    "    print('その値はx[{}]にあります。'.format(str(idx)))"
   ]
  },
  {
   "cell_type": "markdown",
   "metadata": {},
   "source": [
    "### 説明"
   ]
  },
  {
   "cell_type": "raw",
   "metadata": {},
   "source": [
    "# 関数宣言の直後に各複数行コメントは、ドキュメンテーション文字列である。"
   ]
  },
  {
   "cell_type": "markdown",
   "metadata": {},
   "source": [
    "## 8. クラスの基本"
   ]
  },
  {
   "cell_type": "markdown",
   "metadata": {},
   "source": [
    "## 8.1 クラスとは"
   ]
  },
  {
   "cell_type": "markdown",
   "metadata": {},
   "source": [
    "### Java"
   ]
  },
  {
   "cell_type": "raw",
   "metadata": {},
   "source": [
    "// 銀行口座クラス【第２版】\n",
    "\n",
    "class Account {\n",
    "\tprivate String name;\t\t\t// 口座名義\n",
    "        private String no;\t\t\t// 口座番号\n",
    "        private long balance;\t\t// 預金残高\n",
    "\n",
    "\t//--- コンストラクタ ---//\n",
    "\tAccount(String n, String num, long z) {\n",
    "\t\tname = n;\t\t\t\t\t// 口座名義\n",
    "\t\tno = num;\t\t\t\t\t// 口座番号\n",
    "\t\tbalance = z;\t\t\t\t// 預金残高\n",
    "\t}\n",
    "\n",
    "\t//--- 口座名義を調べる ---//\n",
    "\tString getName() {\n",
    "\t\treturn name;\n",
    "\t}\n",
    "\n",
    "\t//--- 口座番号を調べる ---//\n",
    "\tString getNo() {\n",
    "\t\treturn no;\n",
    "\t}\n",
    "\n",
    "\t//--- 預金残高を調べる ---//\n",
    "\tlong getBalance() {\n",
    "\t\treturn balance;\n",
    "\t}\n",
    "\n",
    "\t//--- k円預ける ---//\n",
    "\tvoid deposit(long k) {\n",
    "\t\tbalance += k;\n",
    "\t}\n",
    "\n",
    "\t//--- k円おろす ---//\n",
    "\tvoid withdraw(long k) {\n",
    "\t\tbalance -= k;\n",
    "\t}\n",
    "}"
   ]
  },
  {
   "cell_type": "markdown",
   "metadata": {},
   "source": [
    "### Python"
   ]
  },
  {
   "cell_type": "code",
   "execution_count": 22,
   "metadata": {},
   "outputs": [
    {
     "name": "stdout",
     "output_type": "stream",
     "text": [
      "口座名義： 足立幸一\n",
      "口座番号： 123456\n",
      "預金残高： 800\n"
     ]
    }
   ],
   "source": [
    "# 銀行口座クラス【第２版】\n",
    "\n",
    "class Account:\n",
    "    ''' 銀行口座を扱うクラス '''\n",
    "    # コンストラクタ\n",
    "    def __init__(self, name, no, balance):\n",
    "        self.name = name\n",
    "        self.no = no\n",
    "        self.balance = balance\n",
    "    \n",
    "    # 口座名義を調べる\n",
    "    def getName(self):\n",
    "        return self.name\n",
    "    \n",
    "    # 口座番号を調べる\n",
    "    def getNo(self):\n",
    "        return self.no\n",
    "    \n",
    "    # 預金残高を調べる\n",
    "    def getBalance(self):\n",
    "        return self.balance\n",
    "    \n",
    "    # k円預ける\n",
    "    def deposit(self, k):\n",
    "        self.balance += k\n",
    "    \n",
    "    # k円おろす\n",
    "    def withDraw(self, k):\n",
    "        self.balance -= k\n",
    "\n",
    "# 足立君の口座を作る\n",
    "adachi = Account('足立幸一', '123456', 1000)\n",
    "\n",
    "# 足立君が200円おろす\n",
    "adachi.withDraw(200)\n",
    "\n",
    "# 足立君の口座内容\n",
    "print('口座名義：', adachi.getName())\n",
    "print('口座番号：', adachi.getNo())\n",
    "print('預金残高：', adachi.getBalance())"
   ]
  },
  {
   "cell_type": "markdown",
   "metadata": {},
   "source": [
    "### 説明"
   ]
  },
  {
   "cell_type": "raw",
   "metadata": {},
   "source": [
    "# クラスは class文で定義する。\n",
    "# クラスの内部は独自の名前空間を持ち、クラスの外部からは見えない。\n",
    "# フィールドを明示的に宣言する必要はない。\n",
    "# コンストラクタは __init__()という名前のメソッドとして定義する。\n",
    "# メソッドの第1引数は、オブジェクト自身を示す selfとする。"
   ]
  }
 ],
 "metadata": {
  "kernelspec": {
   "display_name": "Python 3",
   "language": "python",
   "name": "python3"
  },
  "language_info": {
   "codemirror_mode": {
    "name": "ipython",
    "version": 3
   },
   "file_extension": ".py",
   "mimetype": "text/x-python",
   "name": "python",
   "nbconvert_exporter": "python",
   "pygments_lexer": "ipython3",
   "version": "3.6.1"
  }
 },
 "nbformat": 4,
 "nbformat_minor": 1
}
